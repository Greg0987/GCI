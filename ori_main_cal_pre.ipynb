{
 "cells": [
  {
   "cell_type": "code",
   "execution_count": 200,
   "id": "6d514dc5",
   "metadata": {
    "ExecuteTime": {
     "end_time": "2024-03-13T14:32:49.876512Z",
     "start_time": "2024-03-13T14:32:49.869122Z"
    }
   },
   "outputs": [],
   "source": [
    "import pandas as pd\n",
    "import numpy as np"
   ]
  },
  {
   "cell_type": "code",
   "outputs": [],
   "source": [
    "name = 'GCI'\n",
    "dataset = 'small' # small or big\n",
    "train_val = '43' # 43 or 73"
   ],
   "metadata": {
    "collapsed": false,
    "ExecuteTime": {
     "end_time": "2024-03-13T14:32:51.674125Z",
     "start_time": "2024-03-13T14:32:51.666778Z"
    }
   },
   "id": "283a5acca2cebd20",
   "execution_count": 201
  },
  {
   "cell_type": "code",
   "execution_count": 202,
   "id": "1088278d",
   "metadata": {
    "ExecuteTime": {
     "end_time": "2024-03-13T14:33:02.710073Z",
     "start_time": "2024-03-13T14:32:52.009933Z"
    }
   },
   "outputs": [],
   "source": [
    "pf=pd.read_csv(f'datasets/{dataset}_matrix.csv')"
   ]
  },
  {
   "cell_type": "code",
   "execution_count": 203,
   "id": "c5eb461e",
   "metadata": {
    "ExecuteTime": {
     "end_time": "2024-03-13T14:33:02.804051Z",
     "start_time": "2024-03-13T14:33:02.712543Z"
    }
   },
   "outputs": [],
   "source": [
    "# 用户、视频、播放率\n",
    "user_id=np.array(pf['user_id'])\n",
    "video_id=np.array(pf['video_id'])\n",
    "watch_ratio=np.array(pf['watch_ratio'])"
   ]
  },
  {
   "cell_type": "code",
   "execution_count": 204,
   "id": "fdec8d2c",
   "metadata": {
    "ExecuteTime": {
     "end_time": "2024-03-13T14:33:09.378826Z",
     "start_time": "2024-03-13T14:33:09.365089Z"
    }
   },
   "outputs": [],
   "source": [
    "pc=pd.read_csv('datasets/item_categories.csv')"
   ]
  },
  {
   "cell_type": "code",
   "execution_count": 205,
   "id": "95bc94e0",
   "metadata": {
    "ExecuteTime": {
     "end_time": "2024-03-13T14:33:15.613911Z",
     "start_time": "2024-03-13T14:33:15.606443Z"
    }
   },
   "outputs": [],
   "source": [
    "video_id_ca=np.array(pc['video_id'])"
   ]
  },
  {
   "cell_type": "code",
   "execution_count": 206,
   "id": "9b18cc64",
   "metadata": {
    "ExecuteTime": {
     "end_time": "2024-03-13T14:33:17.735338Z",
     "start_time": "2024-03-13T14:33:17.002914Z"
    }
   },
   "outputs": [],
   "source": [
    "full_video_tag=[]\n",
    "bad_video=[]\n",
    "for i in range(pc['feat'].shape[0]):\n",
    "    l=np.array(pc['feat'])[i][1:-1] # 去掉首尾的[]\n",
    "    temp=[int(s) for s in l.split(',')] # 分割字符串，转化为int\n",
    "    full_video_tag.append(temp)\n",
    "    for j in range(len(temp)):\n",
    "        if temp[j]==0:\n",
    "            bad_video.append(i)"
   ]
  },
  {
   "cell_type": "code",
   "execution_count": 207,
   "id": "e2a5d64e",
   "metadata": {
    "ExecuteTime": {
     "end_time": "2024-03-13T14:33:17.746639Z",
     "start_time": "2024-03-13T14:33:17.739088Z"
    }
   },
   "outputs": [
    {
     "name": "stdout",
     "output_type": "stream",
     "text": [
      "2585\n",
      "4255\n",
      "7072\n"
     ]
    }
   ],
   "source": [
    "# 这3个视频没有标签\n",
    "for i in range(len(bad_video)):\n",
    "    if(len(full_video_tag[bad_video[i]])==1):\n",
    "        print(video_id_ca[bad_video[i]])"
   ]
  },
  {
   "cell_type": "code",
   "execution_count": 208,
   "id": "6b4fb08c",
   "metadata": {
    "ExecuteTime": {
     "end_time": "2024-03-13T14:33:23.047549Z",
     "start_time": "2024-03-13T14:33:18.462719Z"
    }
   },
   "outputs": [],
   "source": [
    "# 1411条交互记录是看过上面3条视频\n",
    "dele=[]\n",
    "for i in range(user_id.shape[0]):   # 4,676,570条交互记录\n",
    "    if video_id[i]==2585 or video_id[i]==4255 or video_id[i]==7072:\n",
    "        dele.append(i)"
   ]
  },
  {
   "cell_type": "code",
   "execution_count": 209,
   "id": "171b12fb",
   "metadata": {
    "ExecuteTime": {
     "end_time": "2024-03-13T14:33:23.054274Z",
     "start_time": "2024-03-13T14:33:23.049423Z"
    }
   },
   "outputs": [
    {
     "data": {
      "text/plain": "2614"
     },
     "execution_count": 209,
     "metadata": {},
     "output_type": "execute_result"
    }
   ],
   "source": [
    "len(dele)"
   ]
  },
  {
   "cell_type": "code",
   "execution_count": 210,
   "id": "23123f31",
   "metadata": {
    "ExecuteTime": {
     "end_time": "2024-03-13T14:33:28.476155Z",
     "start_time": "2024-03-13T14:33:23.055680Z"
    }
   },
   "outputs": [],
   "source": [
    "user_id_new=[]\n",
    "video_id_new=[]\n",
    "watch_ratio_new=[]\n",
    "k=0\n",
    "# 删除掉上面1411条交互记录\n",
    "for i in range(user_id.shape[0]):\n",
    "    if dele[k]==i:\n",
    "        if k<(len(dele)-1):\n",
    "            k+=1\n",
    "        continue\n",
    "    else:\n",
    "        user_id_new.append(user_id[i])\n",
    "        video_id_new.append(video_id[i])\n",
    "        watch_ratio_new.append(watch_ratio[i])"
   ]
  },
  {
   "cell_type": "code",
   "execution_count": 211,
   "id": "ab20ad87",
   "metadata": {
    "ExecuteTime": {
     "end_time": "2024-03-13T14:33:30.469103Z",
     "start_time": "2024-03-13T14:33:28.478693Z"
    }
   },
   "outputs": [],
   "source": [
    "user_id_new=np.array(user_id_new)\n",
    "video_id_new=np.array(video_id_new)\n",
    "watch_ratio_new=np.array(watch_ratio_new)"
   ]
  },
  {
   "cell_type": "code",
   "execution_count": 212,
   "id": "3ae3b56f",
   "metadata": {
    "ExecuteTime": {
     "end_time": "2024-03-13T14:33:30.474471Z",
     "start_time": "2024-03-13T14:33:30.470828Z"
    }
   },
   "outputs": [],
   "source": [
    "new_watch_ratio=watch_ratio_new"
   ]
  },
  {
   "cell_type": "code",
   "execution_count": 213,
   "id": "77c81ec8",
   "metadata": {
    "ExecuteTime": {
     "end_time": "2024-03-13T14:33:31.236490Z",
     "start_time": "2024-03-13T14:33:30.475929Z"
    }
   },
   "outputs": [
    {
     "data": {
      "text/plain": "7176"
     },
     "execution_count": 213,
     "metadata": {},
     "output_type": "execute_result"
    }
   ],
   "source": [
    "len(set(user_id_new))   # 1411个用户"
   ]
  },
  {
   "cell_type": "code",
   "execution_count": 214,
   "id": "f20d4061",
   "metadata": {
    "ExecuteTime": {
     "end_time": "2024-03-13T14:33:32.019069Z",
     "start_time": "2024-03-13T14:33:31.237998Z"
    }
   },
   "outputs": [
    {
     "data": {
      "text/plain": "10725"
     },
     "execution_count": 214,
     "metadata": {},
     "output_type": "execute_result"
    }
   ],
   "source": [
    "len(set(video_id_new))  # 3326个视频"
   ]
  },
  {
   "cell_type": "code",
   "execution_count": 215,
   "id": "441a4433",
   "metadata": {
    "ExecuteTime": {
     "end_time": "2024-03-13T14:33:33.535775Z",
     "start_time": "2024-03-13T14:33:32.020603Z"
    }
   },
   "outputs": [],
   "source": [
    "dit_user=dict()\n",
    "reve_user=dict()\n",
    "dit_video=dict()\n",
    "reve_video=dict()\n",
    "ab_set_user=set(user_id_new)    # 1411个用户\n",
    "ab_set_video=set(video_id_new)  # 3326个视频\n",
    "k=0\n",
    "for item in ab_set_user:    # 给用户编号，0-1410\n",
    "    dit_user[k]=item        # {k: user_id}\n",
    "    reve_user[item]=k       # {user_id: k}\n",
    "    k+=1\n",
    "k=0\n",
    "for item in ab_set_video:   # 给视频编号，0-3325\n",
    "    dit_video[k]=item       # {k: video_id}\n",
    "    reve_video[item]=k      # {video_id: k}\n",
    "    k+=1"
   ]
  },
  {
   "cell_type": "code",
   "execution_count": 216,
   "id": "8549a99d",
   "metadata": {
    "ExecuteTime": {
     "end_time": "2024-03-13T14:33:38.448014Z",
     "start_time": "2024-03-13T14:33:33.537398Z"
    }
   },
   "outputs": [],
   "source": [
    "new_user_id=[]\n",
    "new_video_id=[]\n",
    "for i in range(user_id_new.shape[0]):   # 4,675,159条交互记录-1411条交互记录\n",
    "    new_user_id.append(reve_user[user_id_new[i]])   # 新的用户编号，0-1410\n",
    "    new_video_id.append(reve_video[video_id_new[i]])    # 新的视频编号，0-3325"
   ]
  },
  {
   "cell_type": "code",
   "execution_count": 217,
   "id": "e8c6b29a",
   "metadata": {
    "ExecuteTime": {
     "end_time": "2024-03-13T14:33:39.431877Z",
     "start_time": "2024-03-13T14:33:38.451019Z"
    }
   },
   "outputs": [],
   "source": [
    "new_user_id=np.array(new_user_id)   # 4,675,159条交互记录-1411条交互记录\n",
    "new_video_id=np.array(new_video_id)"
   ]
  },
  {
   "cell_type": "code",
   "execution_count": 218,
   "id": "ac282616",
   "metadata": {
    "ExecuteTime": {
     "end_time": "2024-03-13T14:33:40.935362Z",
     "start_time": "2024-03-13T14:33:39.433435Z"
    }
   },
   "outputs": [],
   "source": [
    "shape_1=len(set(new_user_id))   # 1411个用户\n",
    "shape_2=len(set(new_video_id))  # 3326个视频"
   ]
  },
  {
   "cell_type": "code",
   "execution_count": 219,
   "id": "a631e9c0",
   "metadata": {
    "ExecuteTime": {
     "end_time": "2024-03-13T14:33:40.966094Z",
     "start_time": "2024-03-13T14:33:40.937105Z"
    }
   },
   "outputs": [],
   "source": [
    "video_list=[]\n",
    "for i in range(shape_1):    # 1411个用户\n",
    "    video_list.append([])"
   ]
  },
  {
   "cell_type": "code",
   "execution_count": 220,
   "id": "d7954268",
   "metadata": {
    "ExecuteTime": {
     "end_time": "2024-03-13T14:33:42.931294Z",
     "start_time": "2024-03-13T14:33:40.967442Z"
    }
   },
   "outputs": [],
   "source": [
    "for i in range(new_user_id.shape[0]):   # 4M条交互记录\n",
    "    if new_watch_ratio[i]>=2.0:\n",
    "        video_list[new_user_id[i]].append(new_video_id[i])  #  同一个用户看过的所有视频"
   ]
  },
  {
   "cell_type": "code",
   "execution_count": 220,
   "id": "723d1ecd",
   "metadata": {
    "ExecuteTime": {
     "end_time": "2024-03-13T14:33:42.935427Z",
     "start_time": "2024-03-13T14:33:42.932771Z"
    }
   },
   "outputs": [],
   "source": []
  },
  {
   "cell_type": "code",
   "execution_count": 221,
   "outputs": [],
   "source": [
    "test_index=np.load(f'npy_for_pre_recall_f1/{name}/{dataset}idx_test{train_val}.npy')"
   ],
   "metadata": {
    "collapsed": false,
    "ExecuteTime": {
     "end_time": "2024-03-13T14:33:42.941194Z",
     "start_time": "2024-03-13T14:33:42.936968Z"
    }
   },
   "id": "7d97b412d9d10356"
  },
  {
   "cell_type": "code",
   "execution_count": 222,
   "outputs": [
    {
     "data": {
      "text/plain": "(7772,)"
     },
     "execution_count": 222,
     "metadata": {},
     "output_type": "execute_result"
    }
   ],
   "source": [
    "test_index.shape"
   ],
   "metadata": {
    "collapsed": false,
    "ExecuteTime": {
     "end_time": "2024-03-13T14:33:42.962120Z",
     "start_time": "2024-03-13T14:33:42.942736Z"
    }
   },
   "id": "72d7940edfc94e10"
  },
  {
   "cell_type": "code",
   "execution_count": 223,
   "outputs": [],
   "source": [
    "# train_index=np.load('npy_for_pre_recall_f1/ours/small_matrixidx_train43.npy')"
   ],
   "metadata": {
    "collapsed": false,
    "ExecuteTime": {
     "end_time": "2024-03-13T14:33:42.972165Z",
     "start_time": "2024-03-13T14:33:42.964302Z"
    }
   },
   "id": "e148048171bf6643"
  },
  {
   "cell_type": "code",
   "execution_count": 224,
   "outputs": [],
   "source": [
    "# val_index=np.load('npy_for_pre_recall_f1/ours/small_matrixidx_val43.npy')"
   ],
   "metadata": {
    "collapsed": false,
    "ExecuteTime": {
     "end_time": "2024-03-13T14:33:42.982665Z",
     "start_time": "2024-03-13T14:33:42.973485Z"
    }
   },
   "id": "f9713309d7c2fddf"
  },
  {
   "cell_type": "code",
   "execution_count": 225,
   "outputs": [],
   "source": [
    "pred=np.load(f'npy_for_pre_recall_f1/{name}/{dataset}pred{train_val}.npy')"
   ],
   "metadata": {
    "collapsed": false,
    "ExecuteTime": {
     "end_time": "2024-03-13T14:33:42.995111Z",
     "start_time": "2024-03-13T14:33:42.984190Z"
    }
   },
   "id": "8114d33142f82e74"
  },
  {
   "cell_type": "code",
   "execution_count": 226,
   "outputs": [],
   "source": [
    "trued=np.load(f'npy_for_pre_recall_f1/{name}/{dataset}y_true{train_val}.npy')"
   ],
   "metadata": {
    "collapsed": false,
    "ExecuteTime": {
     "end_time": "2024-03-13T14:33:43.004711Z",
     "start_time": "2024-03-13T14:33:42.996616Z"
    }
   },
   "id": "2ebc95c2d0bd3ce"
  },
  {
   "cell_type": "code",
   "execution_count": 227,
   "outputs": [],
   "source": [
    "import os\n",
    "import numpy as np\n",
    "import scipy.sparse as sp\n",
    "import torch\n",
    "import random\n",
    "import torch.nn.functional as F\n",
    "from collections import defaultdict"
   ],
   "metadata": {
    "collapsed": false,
    "ExecuteTime": {
     "end_time": "2024-03-13T14:33:43.014808Z",
     "start_time": "2024-03-13T14:33:43.006370Z"
    }
   },
   "id": "d202c2de0b508fc6"
  },
  {
   "cell_type": "code",
   "execution_count": 228,
   "outputs": [],
   "source": [
    "def get_acc(pred, label, c_train, c_val, model):\n",
    "    # assume the c_train, c_val, c_test are ranked according to their c_ids\n",
    "    mypred = torch.ones(pred.shape)*float('-inf')\n",
    "    if(model == 'train'):\n",
    "        mypred[:, :c_train] = pred[:, :c_train]\n",
    "    elif model == 'val':\n",
    "        mypred[:, c_train: c_train+c_val] = pred[:, c_train: c_train+c_val]\n",
    "    elif model == 'test':\n",
    "        mypred[:, c_train+c_val: ] = pred[:, c_train+c_val: ]\n",
    "    return get_acc_basic(mypred, label,model) \n",
    "\n",
    "def get_acc_basic(predict, label,model):\n",
    "    predict = torch.argmax(predict, axis=1)\n",
    "    if model=='test':\n",
    "        print(predict)\n",
    "        print(label)\n",
    "    acc = (label==predict)\n",
    "    result = acc.sum().numpy()\n",
    "    #print('Train true/false acc:', result/len(acc))\n",
    "    return result/len(acc),predict"
   ],
   "metadata": {
    "collapsed": false,
    "ExecuteTime": {
     "end_time": "2024-03-13T14:33:43.026750Z",
     "start_time": "2024-03-13T14:33:43.016277Z"
    }
   },
   "id": "125e204e7fe19059"
  },
  {
   "cell_type": "code",
   "execution_count": 229,
   "outputs": [
    {
     "name": "stdout",
     "output_type": "stream",
     "text": [
      "tensor([ 7,  7,  7,  ..., 14, 10, 10])\n",
      "tensor([ 7,  7,  7,  ..., 28, 28, 28])\n"
     ]
    }
   ],
   "source": [
    "test_acc ,pre= get_acc(torch.tensor(pred[test_index]), torch.tensor(trued[test_index]), c_train=4, c_val=3, model='test')"
   ],
   "metadata": {
    "collapsed": false,
    "ExecuteTime": {
     "end_time": "2024-03-13T14:33:43.047941Z",
     "start_time": "2024-03-13T14:33:43.028196Z"
    }
   },
   "id": "664d52af847084a6"
  },
  {
   "cell_type": "code",
   "execution_count": 230,
   "outputs": [
    {
     "data": {
      "text/plain": "{7, 10, 14, 19}"
     },
     "execution_count": 230,
     "metadata": {},
     "output_type": "execute_result"
    }
   ],
   "source": [
    "set(np.array(pre))"
   ],
   "metadata": {
    "collapsed": false,
    "ExecuteTime": {
     "end_time": "2024-03-13T14:33:43.058455Z",
     "start_time": "2024-03-13T14:33:43.050168Z"
    }
   },
   "id": "369c3c1cc8c81a54"
  },
  {
   "cell_type": "code",
   "execution_count": 231,
   "outputs": [
    {
     "data": {
      "text/plain": "0.2552753474009264"
     },
     "execution_count": 231,
     "metadata": {},
     "output_type": "execute_result"
    }
   ],
   "source": [
    "test_acc"
   ],
   "metadata": {
    "collapsed": false,
    "ExecuteTime": {
     "end_time": "2024-03-13T14:33:43.069944Z",
     "start_time": "2024-03-13T14:33:43.059399Z"
    }
   },
   "id": "7a76d51708656a76"
  },
  {
   "cell_type": "code",
   "execution_count": 232,
   "outputs": [],
   "source": [
    "final_pred=trued.copy()"
   ],
   "metadata": {
    "collapsed": false,
    "ExecuteTime": {
     "end_time": "2024-03-13T14:33:43.080113Z",
     "start_time": "2024-03-13T14:33:43.071227Z"
    }
   },
   "id": "f39834523104a201"
  },
  {
   "cell_type": "code",
   "execution_count": 233,
   "outputs": [],
   "source": [
    "final_pred[test_index]=pre"
   ],
   "metadata": {
    "collapsed": false,
    "ExecuteTime": {
     "end_time": "2024-03-13T14:33:43.092139Z",
     "start_time": "2024-03-13T14:33:43.082806Z"
    }
   },
   "id": "1e306c50cdf5ca9d"
  },
  {
   "cell_type": "code",
   "execution_count": 234,
   "outputs": [
    {
     "data": {
      "text/plain": "7176"
     },
     "execution_count": 234,
     "metadata": {},
     "output_type": "execute_result"
    }
   ],
   "source": [
    "len(video_list)"
   ],
   "metadata": {
    "collapsed": false,
    "ExecuteTime": {
     "end_time": "2024-03-13T14:33:43.104242Z",
     "start_time": "2024-03-13T14:33:43.097825Z"
    }
   },
   "id": "dddc594b5a1aae4c"
  },
  {
   "cell_type": "code",
   "execution_count": 235,
   "outputs": [],
   "source": [
    "from sklearn.metrics import precision_recall_fscore_support"
   ],
   "metadata": {
    "collapsed": false,
    "ExecuteTime": {
     "end_time": "2024-03-13T14:33:43.113790Z",
     "start_time": "2024-03-13T14:33:43.106445Z"
    }
   },
   "id": "a528f9ba10a5cd0e"
  },
  {
   "cell_type": "code",
   "execution_count": 236,
   "outputs": [],
   "source": [
    "import warnings\n",
    "warnings.filterwarnings(\"ignore\")"
   ],
   "metadata": {
    "collapsed": false,
    "ExecuteTime": {
     "end_time": "2024-03-13T14:33:43.124588Z",
     "start_time": "2024-03-13T14:33:43.115744Z"
    }
   },
   "id": "6d23d3783531c7ea"
  },
  {
   "cell_type": "code",
   "execution_count": 237,
   "outputs": [],
   "source": [
    "Precision=0\n",
    "Recall=0\n",
    "macroF1=0\n",
    "k=0\n",
    "for i in range(len(video_list)):\n",
    "    if len(video_list[i])==0:\n",
    "        k+=1\n",
    "        continue\n",
    "    temp_t=trued[video_list[i]]\n",
    "    temp_p=final_pred[video_list[i]]\n",
    "    temp_Precision,temp_Recall,temp_macroF1,_=precision_recall_fscore_support(temp_t, temp_p,average='macro')\n",
    "    Precision+=temp_Precision\n",
    "    Recall+=temp_Recall\n",
    "    macroF1+=temp_macroF1"
   ],
   "metadata": {
    "collapsed": false,
    "ExecuteTime": {
     "end_time": "2024-03-13T14:33:52.060348Z",
     "start_time": "2024-03-13T14:33:43.126623Z"
    }
   },
   "id": "9c85b9a95b2583e6"
  },
  {
   "cell_type": "code",
   "execution_count": 238,
   "outputs": [
    {
     "data": {
      "text/plain": "0.3117480576469327"
     },
     "execution_count": 238,
     "metadata": {},
     "output_type": "execute_result"
    }
   ],
   "source": [
    "Precision/(len(video_list)-k)"
   ],
   "metadata": {
    "collapsed": false,
    "ExecuteTime": {
     "end_time": "2024-03-13T14:33:52.067939Z",
     "start_time": "2024-03-13T14:33:52.062188Z"
    }
   },
   "id": "44da0a8902c8b9cf"
  },
  {
   "cell_type": "code",
   "execution_count": 239,
   "outputs": [
    {
     "data": {
      "text/plain": "0.3556145791827157"
     },
     "execution_count": 239,
     "metadata": {},
     "output_type": "execute_result"
    }
   ],
   "source": [
    "Recall/(len(video_list)-k)"
   ],
   "metadata": {
    "collapsed": false,
    "ExecuteTime": {
     "end_time": "2024-03-13T14:33:52.089460Z",
     "start_time": "2024-03-13T14:33:52.069303Z"
    }
   },
   "id": "5ca7804698ed380a"
  },
  {
   "cell_type": "code",
   "execution_count": 240,
   "outputs": [
    {
     "data": {
      "text/plain": "0.32101658998953"
     },
     "execution_count": 240,
     "metadata": {},
     "output_type": "execute_result"
    }
   ],
   "source": [
    "macroF1/(len(video_list)-k)"
   ],
   "metadata": {
    "collapsed": false,
    "ExecuteTime": {
     "end_time": "2024-03-13T14:33:52.100804Z",
     "start_time": "2024-03-13T14:33:52.091554Z"
    }
   },
   "id": "d8f363f7ad0f12a8"
  },
  {
   "cell_type": "code",
   "execution_count": 240,
   "id": "a045c96d",
   "metadata": {
    "ExecuteTime": {
     "end_time": "2024-03-13T14:33:52.104667Z",
     "start_time": "2024-03-13T14:33:52.102269Z"
    }
   },
   "outputs": [],
   "source": []
  },
  {
   "cell_type": "code",
   "execution_count": 240,
   "id": "8cbeec75",
   "metadata": {
    "ExecuteTime": {
     "end_time": "2024-03-13T14:33:52.108489Z",
     "start_time": "2024-03-13T14:33:52.105985Z"
    }
   },
   "outputs": [],
   "source": []
  }
 ],
 "metadata": {
  "kernelspec": {
   "name": "pytorch",
   "language": "python",
   "display_name": "pytorch"
  },
  "language_info": {
   "codemirror_mode": {
    "name": "ipython",
    "version": 3
   },
   "file_extension": ".py",
   "mimetype": "text/x-python",
   "name": "python",
   "nbconvert_exporter": "python",
   "pygments_lexer": "ipython3",
   "version": "3.7.11"
  }
 },
 "nbformat": 4,
 "nbformat_minor": 5
}
